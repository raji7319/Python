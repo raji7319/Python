{
  "cells": [
    {
      "cell_type": "markdown",
      "metadata": {
        "id": "Fa2c6MMVn_Hv"
      },
      "source": [
        "SOLVING EQUATION"
      ]
    },
    {
      "cell_type": "code",
      "execution_count": null,
      "metadata": {
        "id": "hsnS5HsYhvfg"
      },
      "outputs": [],
      "source": [
        "x=int(input(\"x value:\"))\n",
        "y=int(input(\"y value:\"))\n",
        "c=int(input(\"c value:\"))\n",
        "s=(3*(x**2)+4*y+c)\n",
        "print(s)"
      ]
    },
    {
      "cell_type": "markdown",
      "metadata": {
        "id": "3DDFExvang9g"
      },
      "source": [
        "SQUARE OF A NUM"
      ]
    },
    {
      "cell_type": "code",
      "execution_count": null,
      "metadata": {
        "id": "RH3FmM88pzbm"
      },
      "outputs": [],
      "source": [
        "a=int(input(\"enter the num:\"))\n",
        "b=a**2\n",
        "print(b)"
      ]
    },
    {
      "cell_type": "markdown",
      "metadata": {
        "id": "_9f8T_0Rnd7f"
      },
      "source": [
        "MAX NUM"
      ]
    },
    {
      "cell_type": "code",
      "execution_count": null,
      "metadata": {
        "id": "8D9iJXfWq9Gd"
      },
      "outputs": [],
      "source": [
        "a=[100,200,300]\n",
        "b=max(a)\n",
        "print(b)"
      ]
    },
    {
      "cell_type": "markdown",
      "metadata": {
        "id": "rMywad4NnV_8"
      },
      "source": [
        "CHECKNG NUM IS POSITIVE OR NEGATIVE"
      ]
    },
    {
      "cell_type": "code",
      "execution_count": null,
      "metadata": {
        "id": "uJgn72QOrhea"
      },
      "outputs": [],
      "source": [
        "a=int(input(\"enter the num:\"))\n",
        "if (a>0):\n",
        "  print(\"positive\")\n",
        "elif (a<0):\n",
        "  print(\"negative\")\n",
        "else:\n",
        "  print(\"zero\")"
      ]
    },
    {
      "cell_type": "markdown",
      "metadata": {
        "id": "o6-nCmYLoGxM"
      },
      "source": [
        "SWAPPING 2 NUM"
      ]
    },
    {
      "cell_type": "code",
      "execution_count": null,
      "metadata": {
        "id": "rwgXXN4PjnVX"
      },
      "outputs": [],
      "source": [
        "a=10\n",
        "b=20\n",
        "print(\"before swapping\",a,b)\n",
        "print(\"after swapping\",b,a)"
      ]
    },
    {
      "cell_type": "markdown",
      "metadata": {
        "id": "ztD04sgNnOC_"
      },
      "source": [
        "SQUARE ROOT"
      ]
    },
    {
      "cell_type": "code",
      "execution_count": null,
      "metadata": {
        "id": "ozTKwTSNleL0"
      },
      "outputs": [],
      "source": [
        "a=int(input(\"enter the value:\"))\n",
        "b=a**0.5\n",
        "print(\"the square root of a is:\",b)"
      ]
    },
    {
      "cell_type": "markdown",
      "metadata": {
        "id": "IOhU7StknItQ"
      },
      "source": [
        "CELSIUS TO FAHRENHEIT"
      ]
    },
    {
      "cell_type": "code",
      "execution_count": null,
      "metadata": {
        "id": "O_7AIm0Vp2x8"
      },
      "outputs": [],
      "source": [
        "celsius=int(input(\"enter the celsius:\"))\n",
        "fahrenheit=celsius*9/5+32\n",
        "print(\"the fahrenheit is \",fahrenheit)"
      ]
    },
    {
      "cell_type": "markdown",
      "metadata": {
        "id": "YONOtJFhnEgt"
      },
      "source": [
        "AREA OF TRIANGLE"
      ]
    },
    {
      "cell_type": "code",
      "execution_count": null,
      "metadata": {
        "id": "eeHZ7QkJsKUB"
      },
      "outputs": [],
      "source": [
        "base=int(input(\"enter the base:\"))\n",
        "height=int(input(\"enter the height:\"))\n",
        "area=0.5*base*height\n",
        "print (\"the area of triangle is\",area)"
      ]
    },
    {
      "cell_type": "markdown",
      "metadata": {
        "id": "OAJ67gqSm9kR"
      },
      "source": [
        "PATTERNS"
      ]
    },
    {
      "cell_type": "code",
      "execution_count": null,
      "metadata": {
        "id": "t22SQeABAGiO"
      },
      "outputs": [],
      "source": [
        "for i in range(1,6):\n",
        "  for j in range(i):\n",
        "    print(i, end='')\n",
        "  print('')"
      ]
    },
    {
      "cell_type": "code",
      "execution_count": null,
      "metadata": {
        "id": "Uth_Ew2GA-HO"
      },
      "outputs": [],
      "source": [
        "for i in range(1,6):\n",
        "  for j in range(i):\n",
        "    print('*', end='')\n",
        "  print('')"
      ]
    },
    {
      "cell_type": "code",
      "execution_count": null,
      "metadata": {
        "id": "1ZIguo3JCb5Y"
      },
      "outputs": [],
      "source": [
        "for i in range(1,6):\n",
        "  for j in range(i):\n",
        "    print(j+1, end='')\n",
        "  print('')"
      ]
    },
    {
      "cell_type": "code",
      "execution_count": null,
      "metadata": {
        "id": "eFiz3WKKD3hL"
      },
      "outputs": [],
      "source": [
        "for i in range(1,6):\n",
        "  for j in range(i):\n",
        "    print('*', end=' ')\n",
        "  print(' ')"
      ]
    },
    {
      "cell_type": "code",
      "execution_count": null,
      "metadata": {
        "id": "Qq3WrPMaF8b9"
      },
      "outputs": [],
      "source": [
        "a=5\n",
        "for i in range(a):\n",
        "  for j in range(a-i):\n",
        "    print('',end='')\n",
        "    for k in range(i+1):\n",
        "      print('*',end='')\n",
        "  print('')"
      ]
    },
    {
      "cell_type": "code",
      "execution_count": null,
      "metadata": {
        "id": "ZumwqIcvGBBd"
      },
      "outputs": [],
      "source": [
        "a=5\n",
        "for i in range(1,a+1):\n",
        "  b=\" \"*(a-i)\n",
        "  c=\"*\"*i\n",
        "  print(b+c)"
      ]
    },
    {
      "cell_type": "code",
      "execution_count": null,
      "metadata": {
        "id": "mM23rnENKY8x"
      },
      "outputs": [],
      "source": [
        "raj=5\n",
        "for i in range(1,raj+1):\n",
        "  s=\" \"*(raj-i)\n",
        "  r=\"*\"*(2*i-1)\n",
        "  print(s+r)"
      ]
    },
    {
      "cell_type": "markdown",
      "metadata": {
        "id": "WEXrNx4Vm3Ju"
      },
      "source": [
        "AREA OF TRIANGLE"
      ]
    },
    {
      "cell_type": "code",
      "execution_count": null,
      "metadata": {
        "id": "O1vxGZCOjxd5"
      },
      "outputs": [],
      "source": [
        " a = float(input('Enter first side: '))\n",
        "b = float(input('Enter second side: '))\n",
        "c = float(input('Enter third side: '))\n",
        "# calculate the semi-perimeter\n",
        "s = (a + b + c) / 2\n",
        "# calculate the area\n",
        "area = (s*(s-a)*(s-b)*(s-c)) ** 0.5\n",
        "print('The area of the triangle is ', area)"
      ]
    },
    {
      "cell_type": "markdown",
      "metadata": {
        "id": "1VJq5jU9oNHq"
      },
      "source": [
        "CONCATENATE 2 STRINGS"
      ]
    },
    {
      "cell_type": "code",
      "execution_count": null,
      "metadata": {
        "id": "qisF66PkmBKV"
      },
      "outputs": [],
      "source": [
        "str1=\"python\"\n",
        "str2=\"programming\"\n",
        "print (\"String 1:\",str1)\n",
        "print (\"String 2:\",str2)\n",
        "str=str1+str2\n",
        "print(\"Concatenated two different strings:\",str)"
      ]
    },
    {
      "cell_type": "markdown",
      "metadata": {
        "id": "c4jWQFA_oR3V"
      },
      "source": [
        "LARGEST NUM AMONG 3 INPUTS"
      ]
    },
    {
      "cell_type": "code",
      "execution_count": null,
      "metadata": {
        "id": "2NiENv-smQM7"
      },
      "outputs": [],
      "source": [
        "num1 = float(input(\"Enter first number: \"))\n",
        "num2 = float(input(\"Enter second number: \"))\n",
        "num3 = float(input(\"Enter third number: \"))\n",
        "if (num1 >= num2) and (num1 >= num3):\n",
        " largest = num1\n",
        "elif (num2 >= num1) and (num2 >= num3):\n",
        " largest = num2\n",
        "else:\n",
        " largest = num3\n",
        "print(\"The largest number is\", largest)"
      ]
    },
    {
      "cell_type": "markdown",
      "metadata": {
        "id": "fH_nf58nqXfY"
      },
      "source": [
        "PRIME NUM OR NOT"
      ]
    },
    {
      "cell_type": "code",
      "execution_count": null,
      "metadata": {
        "id": "KGmSae-xqb0z"
      },
      "outputs": [],
      "source": [
        "# To take input from the user\n",
        "num = int(input(\"Enter a number: \"))\n",
        "# define a flag variable\n",
        "flag = False\n",
        "if num == 1:\n",
        " print(num, \"is not a prime number\")\n",
        "elif num > 1:\n",
        " # check for factors\n",
        " for i in range(2, num):\n",
        "  if (num % i) == 0:\n",
        " # if factor is found, set flag to True\n",
        "   flag = True\n",
        " # break out of loop\n",
        "   break\n",
        " # check if flag is True\n",
        " if flag:\n",
        "  print(num, \"is not a prime number\")\n",
        " else:\n",
        "  print(num, \"is a prime number\")"
      ]
    },
    {
      "cell_type": "markdown",
      "metadata": {
        "id": "vl53gI5Kwb01"
      },
      "source": [
        "FACTORIAL NUM"
      ]
    },
    {
      "cell_type": "code",
      "execution_count": null,
      "metadata": {
        "id": "zHnJN2eEweLL"
      },
      "outputs": [],
      "source": [
        "# To take input from the user\n",
        "num = int(input(\"Enter a number: \"))\n",
        "factorial = 1\n",
        "# check if the number is negative, positive or zero\n",
        "if num < 0:\n",
        " print(\"Sorry, factorial does not exist for negative numbers\")\n",
        "elif num == 0:\n",
        " print(\"The factorial of 0 is 1\")\n",
        "else:\n",
        " for i in range(1,num + 1):\n",
        "  factorial = factorial*i\n",
        "print(\"The factorial of\",num,\"is\",factorial)\n"
      ]
    },
    {
      "cell_type": "markdown",
      "metadata": {
        "id": "qoXG0AtdIb-6"
      },
      "source": [
        "POSTIVE,NEGATIVE OR ZERO"
      ]
    },
    {
      "cell_type": "code",
      "execution_count": null,
      "metadata": {
        "id": "-crSFFU1IkCE"
      },
      "outputs": [],
      "source": [
        "a = int(input(\"Enter a number: \"))\n",
        "if a > 0:\n",
        " print(\"Positive number\")\n",
        "elif a == 0:\n",
        " print(\"Zero\")\n",
        "else:\n",
        " print(\"Negative number\")"
      ]
    },
    {
      "cell_type": "markdown",
      "metadata": {
        "id": "g1yOcVCLJn8s"
      },
      "source": [
        "MULTIPLICATION TABLE\n"
      ]
    },
    {
      "cell_type": "code",
      "execution_count": null,
      "metadata": {
        "id": "SGGiZMUeJ4Fz"
      },
      "outputs": [],
      "source": [
        "val=int(input(\"enter the num:\"))\n",
        "for i in range(1,11):\n",
        "  print(val,'X',i,'=',val*i)"
      ]
    },
    {
      "cell_type": "markdown",
      "metadata": {
        "id": "lSh97SiuKz8P"
      },
      "source": [
        "LEAP YEAR OR NOT"
      ]
    },
    {
      "cell_type": "code",
      "execution_count": null,
      "metadata": {
        "id": "GT_InbaWK5Ft"
      },
      "outputs": [],
      "source": [
        "year=int(input(\"enter the year:\"))\n",
        "if(year%400==0)and (year%100==0):\n",
        "  print(year,'is a leap year')\n",
        "elif(year%4==0)and(year%100!=0):\n",
        "  print(year,'is a leap year')\n",
        "else:\n",
        "  print(year,'is not a leap year')"
      ]
    },
    {
      "cell_type": "markdown",
      "metadata": {
        "id": "vJ8b508FMgCn"
      },
      "source": [
        "PRINT CURRENT DATE"
      ]
    },
    {
      "cell_type": "code",
      "execution_count": null,
      "metadata": {
        "id": "9aZjQZLiMjcM"
      },
      "outputs": [],
      "source": [
        "from datetime import date\n",
        "todays_date=date.today()\n",
        "print(\"today's date is:\",todays_date)"
      ]
    },
    {
      "cell_type": "markdown",
      "metadata": {
        "id": "-bhG20xQNQRH"
      },
      "source": [
        "H.C.F OF TWO NUMBERS"
      ]
    },
    {
      "cell_type": "code",
      "execution_count": null,
      "metadata": {
        "id": "Jr81ndVpPJ-t"
      },
      "outputs": [],
      "source": [
        "from re import I\n",
        "def compute_hcf(x,y):\n",
        "  if x>y:\n",
        "    smaller=y\n",
        "  else:\n",
        "    smaller=x\n",
        "    for i in range (1,smaller+1):\n",
        "      if((x%i==0)and(y%i==0)):\n",
        "        return hcf\n",
        "num1=int(input(\"enter a val:\"))\n",
        "num2=int(input(\"enter b val:\"))\n",
        "print(\"the h.c.f is\",compute_hcf(num1,num2))"
      ]
    },
    {
      "cell_type": "code",
      "execution_count": null,
      "metadata": {
        "id": "MdrLI0hkNVtr"
      },
      "outputs": [],
      "source": [
        "def compute_hcf(x, y):\n",
        " if x > y:\n",
        "  smaller = y\n",
        " else:\n",
        "  smaller = x\n",
        "  for i in range(1, smaller+1):\n",
        "    if((x % i == 0) and (y % i == 0)):\n",
        "      hcf = i\n",
        "      return hcf\n",
        "num1 = int(input(\"Enter first number\"))\n",
        "num2 = int(input(\"Enter SEC number\"))\n",
        "print(\"The H.C.F. is\", compute_hcf(num1, num2))"
      ]
    },
    {
      "cell_type": "code",
      "execution_count": null,
      "metadata": {
        "id": "TEs--uXU9Nv3"
      },
      "outputs": [],
      "source": [
        "def compute_lcm(x, y):\n",
        "  if x > y:\n",
        "     greater = x\n",
        "  else:\n",
        "    greater = y\n",
        "    while(True):\n",
        "      if((greater % x == 0) and (greater % y == 0)):\n",
        "        lcm = greater\n",
        "        break\n",
        "        greater += 1\n",
        "        return lcm\n",
        "num1 = int(input(\"Enter first number\"))\n",
        "num2 = int(input(\"Enter second number\"))\n",
        "print(\"The L.C.M. is\", compute_lcm(num1, num2))"
      ]
    },
    {
      "cell_type": "markdown",
      "metadata": {
        "id": "u039IVO3_HdD"
      },
      "source": [
        "SQUARE OF A NUM"
      ]
    },
    {
      "cell_type": "code",
      "execution_count": null,
      "metadata": {
        "id": "IiFArT7E-MTz"
      },
      "outputs": [],
      "source": [
        "def find_square(num):\n",
        "  res=num*num\n",
        "  return res\n",
        "square=find_square(3)\n",
        "print('square:',square)"
      ]
    },
    {
      "cell_type": "markdown",
      "metadata": {
        "id": "3MRuSXVLBfEM"
      },
      "source": [
        "CELSIUS TO FAHRENHEIT"
      ]
    },
    {
      "cell_type": "code",
      "execution_count": null,
      "metadata": {
        "id": "HndeWDxt_Ohf"
      },
      "outputs": [],
      "source": [
        "celsius=float(input(\"enter the celsius\"))\n",
        "fahrenheit=celsius*9/5+32\n",
        "print('fahrenheit is:',fahrenheit)"
      ]
    },
    {
      "cell_type": "markdown",
      "metadata": {
        "id": "3aDUkldjDPEi"
      },
      "source": [
        "KILOMETERS TO MILES"
      ]
    },
    {
      "cell_type": "code",
      "execution_count": null,
      "metadata": {
        "id": "Y3QMTsYgBuiu"
      },
      "outputs": [],
      "source": [
        "kilometers=float(input('ennter the km:'))\n",
        "conv_fac=0.621371\n",
        "miles=kilometers*conv_fac\n",
        "print(\"the miles are:\",miles)"
      ]
    },
    {
      "cell_type": "markdown",
      "metadata": {
        "id": "VPldgoNYD8mP"
      },
      "source": [
        "KILOMETER TO METER"
      ]
    },
    {
      "cell_type": "code",
      "execution_count": null,
      "metadata": {
        "id": "6dR2k9v-DR28"
      },
      "outputs": [],
      "source": [
        "kilometers=float(input('ennter the km:'))\n",
        "calc=1000\n",
        "meter=kilometers*calc\n",
        "print(\"the meters are:\",meter)\n"
      ]
    },
    {
      "cell_type": "markdown",
      "metadata": {
        "id": "VxoOs_35FBa0"
      },
      "source": [
        "SWAP 2 NUMBERS"
      ]
    },
    {
      "cell_type": "code",
      "execution_count": null,
      "metadata": {
        "id": "JXQqGmWUENX0"
      },
      "outputs": [],
      "source": [
        "x=10\n",
        "y=20\n",
        "x,y=y,x\n",
        "print(\"x=\",x)\n",
        "print(\"y=\",y)\n"
      ]
    },
    {
      "cell_type": "code",
      "execution_count": null,
      "metadata": {
        "id": "yxWszYv8EzLJ"
      },
      "outputs": [],
      "source": [
        "x=10\n",
        "y=20\n",
        "print(\"before swapping\",x,y)\n",
        "print(\"after swapping\",y,x)"
      ]
    },
    {
      "cell_type": "markdown",
      "metadata": {
        "id": "Jt8Ohj-FLZd4"
      },
      "source": [
        "ARMSTRONG NUMBER"
      ]
    },
    {
      "cell_type": "code",
      "execution_count": null,
      "metadata": {
        "id": "UnaMMZBKFW7Q"
      },
      "outputs": [],
      "source": [
        "a=int(input(\"enter a num:\"))\n",
        "sum=0\n",
        "temp=a\n",
        "while temp>0:\n",
        "  digit=temp%10\n",
        "  sum+=digit**3\n",
        "  temp//=10\n",
        "if a==sum:\n",
        "  print(a,\"is an armstrong number\")\n",
        "else:\n",
        "  print(a,\"is not a armstrong number\")"
      ]
    },
    {
      "cell_type": "markdown",
      "metadata": {
        "id": "Nr-9lhq2Np4T"
      },
      "source": [
        "COMPOUND INTEREST"
      ]
    },
    {
      "cell_type": "code",
      "execution_count": null,
      "metadata": {
        "id": "DGcd6uzCLd-P"
      },
      "outputs": [],
      "source": [
        "def compound_interest(principal,rate,time):\n",
        "  amount=principal*(pow((1+rate/100),time))\n",
        "  CI=amount-principal\n",
        "  print(\"compound interest is\",CI)\n",
        "compound_interest(10000,10.25,5)"
      ]
    },
    {
      "cell_type": "markdown",
      "metadata": {
        "id": "Zpv3aPa5OLvc"
      },
      "source": [
        "ELEMENT IS PRESENT IN THE LIST OR NOT"
      ]
    },
    {
      "cell_type": "code",
      "execution_count": null,
      "metadata": {
        "id": "J-H0nJXMgAEb"
      },
      "outputs": [],
      "source": [
        "a=[1,6,3,5,3,4]\n",
        "i=7\n",
        "if i in a:\n",
        "  print(\"exist\")\n",
        "else:\n",
        "  print(\"not exist\")"
      ]
    },
    {
      "cell_type": "markdown",
      "metadata": {
        "id": "MjAAwkusigCT"
      },
      "source": [
        "REVERSE A LIST USING SLICE OPERATION"
      ]
    },
    {
      "cell_type": "code",
      "execution_count": null,
      "metadata": {
        "id": "M_gf_uMchEPd"
      },
      "outputs": [],
      "source": [
        "def reverse(b):\n",
        "  new_b=b[::-1]\n",
        "  return new_b\n",
        "b=[10,11,12,13,14,15]\n",
        "print(reverse(b))"
      ]
    },
    {
      "cell_type": "markdown",
      "metadata": {
        "id": "nIYNq968jN77"
      },
      "source": [
        "UPDATE THE MARK IN DICT"
      ]
    },
    {
      "cell_type": "code",
      "execution_count": null,
      "metadata": {
        "id": "qoBI7gQ1ik7v"
      },
      "outputs": [],
      "source": [
        "marks={'phy':67,'mat':87}\n",
        "int_marks={'practical':48}\n",
        "marks.update(int_marks)\n",
        "print(marks)"
      ]
    },
    {
      "cell_type": "code",
      "execution_count": null,
      "metadata": {
        "id": "nAulj21ulEu8"
      },
      "outputs": [],
      "source": [
        "IS PALINDROME OR NOT"
      ]
    },
    {
      "cell_type": "code",
      "execution_count": null,
      "metadata": {
        "id": "XdywK5CbjvNg"
      },
      "outputs": [],
      "source": [
        "def ispalindrome(string):\n",
        "  if(string==string[::-1]):\n",
        "    return \"THE STRING IS A PALINDROME\"\n",
        "  else:\n",
        "    return \"the string is not a palindrome\"\n",
        "string=input(\"enter a string:\")\n",
        "print(ispalindrome(string))"
      ]
    },
    {
      "cell_type": "markdown",
      "metadata": {
        "id": "6qAhwPponO9k"
      },
      "source": [
        "PATTERN PRINTING IN REVERSE"
      ]
    },
    {
      "cell_type": "code",
      "execution_count": null,
      "metadata": {
        "id": "ZTG-A9xHmJNM"
      },
      "outputs": [],
      "source": [
        "rows=int(input(\"enter a num:\"))\n",
        "for i in range(rows+1,0,-1):\n",
        "  for j in range(0,i-1):\n",
        "    print(\"*\",end='')\n",
        "  print('')"
      ]
    },
    {
      "cell_type": "markdown",
      "metadata": {
        "id": "yFcQiWj8oyhK"
      },
      "source": [
        "reverse a number"
      ]
    },
    {
      "cell_type": "code",
      "execution_count": null,
      "metadata": {
        "id": "X-YCpHWmozSL"
      },
      "outputs": [],
      "source": [
        "a=int(input(\"enter a num:\"))\n",
        "revs_a=0\n",
        "while(a>0):\n",
        "  remainder=a%10\n",
        "  revs_a=(revs_a*10)+remainder\n",
        "  a=a//10\n",
        "print(\"the reverse num is:{}\".format(revs_a))"
      ]
    },
    {
      "cell_type": "markdown",
      "metadata": {
        "id": "5ycPLG9VtFHU"
      },
      "source": [
        "PERFORM ARITHMETIC OPERATORS"
      ]
    },
    {
      "cell_type": "code",
      "execution_count": null,
      "metadata": {
        "id": "CaO8H8VMqlk9"
      },
      "outputs": [],
      "source": [
        "a=int(input(\"enter a val:\"))\n",
        "b=int(input(\"enter b val:\"))\n",
        "add=a+b                        #add\n",
        "sub=a-b                        #sub\n",
        "mult=a*b                       #multiply\n",
        "div=a/b                        #division\n",
        "mod=a%b                        #modulo\n",
        "expo=a**b                      #exponentiation\n",
        "print(\"sum value:\",add)\n",
        "print(\"sub val:\",sub)\n",
        "print(\"div val:\",div)\n",
        "print(\"mod val:\",mod)\n",
        "print(\"expo val:\",expo)"
      ]
    },
    {
      "cell_type": "markdown",
      "metadata": {
        "id": "rr3Y8nKguTeN"
      },
      "source": [
        "ODD OR EVEN"
      ]
    },
    {
      "cell_type": "code",
      "execution_count": null,
      "metadata": {
        "id": "4w65C2CLt1UB"
      },
      "outputs": [],
      "source": [
        "a=int(input(\"enter a num:\"))\n",
        "if a%2==0:\n",
        "  print(\"its an even num\")\n",
        "else:\n",
        "  print(\"its an odd num\")"
      ]
    },
    {
      "cell_type": "markdown",
      "metadata": {
        "id": "aUgQ0yakvMC8"
      },
      "source": [
        "ALPHABET OR NOT"
      ]
    },
    {
      "cell_type": "code",
      "execution_count": null,
      "metadata": {
        "id": "U9Ta-hEpunC0"
      },
      "outputs": [],
      "source": [
        "c=str(input(\"enter a char:\"))\n",
        "if c>='A' and c<='Z':\n",
        "  print(\"its an alphabet\")\n",
        "else:\n",
        "  print(\"its not an alphabet\")"
      ]
    },
    {
      "cell_type": "markdown",
      "metadata": {
        "id": "ep8DByvhxKbF"
      },
      "source": [
        "SUM OF N NUM"
      ]
    },
    {
      "cell_type": "code",
      "execution_count": null,
      "metadata": {
        "id": "LODetvk5vnFX"
      },
      "outputs": [],
      "source": [
        "sum=0\n",
        "n=int(input(\"enter the n val:\"))\n",
        "print(\"enter\"+str(n)+\"num:\")\n",
        "for i in range(n):\n",
        "  num=int(input())\n",
        "  sum=sum+num\n",
        "print(\"sum of\"+str(n)+\"num=\"+str(sum))"
      ]
    },
    {
      "cell_type": "markdown",
      "metadata": {
        "id": "Q9Yuj0HmrMpw"
      },
      "source": [
        "TO FIND A SUBSTRING IN A GIVEN STRING"
      ]
    },
    {
      "cell_type": "code",
      "execution_count": null,
      "metadata": {
        "id": "h0oNEVN3w-op"
      },
      "outputs": [],
      "source": [
        "a=input(\"enter a string:\")\n",
        "b=input(\"enter a substring:\")\n",
        "if b in a:\n",
        "  print(\"Found!\")\n",
        "else:\n",
        "  print(\"Not found!\")"
      ]
    },
    {
      "cell_type": "markdown",
      "metadata": {
        "id": "ic18p2JFsdmk"
      },
      "source": [
        "TO FIND VOWELS IN A STRING"
      ]
    },
    {
      "cell_type": "code",
      "execution_count": null,
      "metadata": {
        "id": "wbE4FWaSrS-_"
      },
      "outputs": [],
      "source": [
        "a=input(\"enter a string:\")\n",
        "vowels=0\n",
        "for i in a :\n",
        "  if(i=='a'or i=='e'or i=='i'or i=='o' or i=='u'or i=='A' or i=='E' or i=='I'or i=='O'or i=='U'):\n",
        "    vowels=vowels+1\n",
        "print(\"Number of vowels are:\",vowels)"
      ]
    },
    {
      "cell_type": "markdown",
      "metadata": {
        "id": "Z5IEo6Mvum15"
      },
      "source": [
        "TO CHECK IF A NUMBER IS PERFECT OR NOT"
      ]
    },
    {
      "cell_type": "code",
      "execution_count": null,
      "metadata": {
        "id": "LVwCTxc8sisP"
      },
      "outputs": [],
      "source": [
        "n=int(input(\"enter any num:\"))\n",
        "sum1=0\n",
        "for i in range(1,n):\n",
        "  if(n%i==0):\n",
        "    sum1=sum1+i\n",
        "if(sum1==n):\n",
        "  print(\"the num is a perfect num\")\n",
        "else:\n",
        "  print(\"the num is not a perfect num\")"
      ]
    },
    {
      "cell_type": "markdown",
      "metadata": {
        "id": "vUavAnzCvpEH"
      },
      "source": [
        "TO GENERATE ALL THE DIVISORS OF AN INTEGER"
      ]
    },
    {
      "cell_type": "code",
      "execution_count": null,
      "metadata": {
        "id": "cF4HSJ8Nuxsu"
      },
      "outputs": [],
      "source": [
        "s=int(input(\"enter an integer:\"))\n",
        "print(\"the divisors of the num are:\")\n",
        "for i in range(1,s+1):\n",
        "  if(s%i==0):\n",
        "    print(i)"
      ]
    },
    {
      "cell_type": "markdown",
      "metadata": {
        "id": "la5Ks3MS0iCh"
      },
      "source": [
        "GET 5 MARKS OF A STUDENT AND DISPLAY THE GRADE"
      ]
    },
    {
      "cell_type": "code",
      "execution_count": null,
      "metadata": {
        "id": "GDUEytDNyfzw"
      },
      "outputs": [],
      "source": [
        "sub1=int(input(\"enter a sub1 mark:\"))\n",
        "sub2=int(input(\"enter a sub2 mark:\"))\n",
        "sub3=int(input(\"enter a sub3 mark:\"))\n",
        "sub4=int(input(\"enter a sub4 mark:\"))\n",
        "sub5=int(input(\"enter a sub5 mark:\"))\n",
        "avg=(sub1+sub2+sub3+sub4+sub5)//5\n",
        "if(avg>=90):\n",
        "  print(\"Grade:A\")\n",
        "elif(avg>=80 & avg<90):\n",
        "  print(\"Grade:B\")\n",
        "elif(avg>=70 & avg<80):\n",
        "  print(\"Grade:C\")\n",
        "elif(avg>=60 & avg<70):\n",
        "  print(\"Grade:D\")\n",
        "elif(avg>=50 & avg<60):\n",
        "  print(\"Grade:E\")\n",
        "else:\n",
        "  print(\"Grade:F\")"
      ]
    },
    {
      "cell_type": "markdown",
      "metadata": {
        "id": "AMuHNijw1HIf"
      },
      "source": [
        "BINARY  EQUIVALENT OF ANY NUM"
      ]
    },
    {
      "cell_type": "code",
      "execution_count": null,
      "metadata": {
        "id": "-R3Q0XZH0qi7"
      },
      "outputs": [],
      "source": [
        "a=int(input(\"enter any num:\"))\n",
        "print(bin(a)[2:])"
      ]
    },
    {
      "cell_type": "markdown",
      "metadata": {
        "id": "XS-f2QafCfs_"
      },
      "source": [
        "TAKE A STRING AND REPLACE IT WITH A HYPHEN"
      ]
    },
    {
      "cell_type": "code",
      "execution_count": null,
      "metadata": {
        "id": "sgViZpWQ8fs5"
      },
      "outputs": [],
      "source": [
        "string=input(\"Enter string:\")\n",
        "string=string.replace(' ','-')\n",
        "print(\"Modified string:\")\n",
        "print(string)\n"
      ]
    },
    {
      "cell_type": "markdown",
      "metadata": {
        "id": "fWyanZR5GTdJ"
      },
      "source": [
        "DESIGN A CALCULATOR"
      ]
    },
    {
      "cell_type": "code",
      "execution_count": null,
      "metadata": {
        "id": "lShGRsN5CptO"
      },
      "outputs": [],
      "source": [
        "def add(x,y):\n",
        "  return(x+y)\n",
        "def sub(x,y):\n",
        "  return(x-y)\n",
        "def mult(x,y):\n",
        "  return(x*y)\n",
        "def div(x,y):\n",
        "  return(x/y)\n",
        "print(\"select operation:\")\n",
        "print(\"1.Add\")\n",
        "print(\"2.sub\")\n",
        "print(\"3.multiply\")\n",
        "print(\"4.divide\")\n",
        "while True:\n",
        "  choice=input(\"enter choice(1/2/3/4):\")\n",
        "  if choice in('1','2','3','4'):\n",
        "    try:\n",
        "      num1=float(input(\"enter num 1:\"))\n",
        "      num2=float(input(\"enter num 2:\"))\n",
        "    except ValueError:\n",
        "      print(\"invalid input\")\n",
        "      continue\n",
        "    if choice=='1':\n",
        "      print(num1,'+',num2,'=',add(num1,num2))\n",
        "    elif choice=='2':\n",
        "      print(num1,'-',num2,'=',sub(num1,num2))\n",
        "    elif choice=='3':\n",
        "      print(num1,'*',num2,'=',mult(num1,num2))\n",
        "    elif choice=='4':\n",
        "      print(num1,'/',num2,'=',div(num1,num2))\n",
        "    next_calc=input(\"move on to next?(yes/no):\")\n",
        "    if next_calc=='no':\n",
        "      break\n",
        "    else:\n",
        "      print(\"invalid input\")"
      ]
    },
    {
      "cell_type": "code",
      "execution_count": null,
      "metadata": {
        "id": "VV3_Tla2Ju3B"
      },
      "outputs": [],
      "source": [
        "a=[]\n",
        "n= int(input(\"Enter the number of elements in list:\"))\n",
        "for x in range(0,n):\n",
        " element=int(input(\"Enter a element\" + str(x+1) + \":\"))\n",
        " a.append(element)\n",
        "b = set()\n",
        "unique = []\n",
        "for x in a:\n",
        " if x not in b:\n",
        "  unique.append(x)\n",
        "  b.add(x)\n",
        "print(\"Non-duplicate items:\")\n",
        "print(unique)\n"
      ]
    },
    {
      "cell_type": "markdown",
      "metadata": {
        "id": "a0twLjjoIwzg"
      },
      "source": [
        "LEAP YEAR"
      ]
    },
    {
      "cell_type": "code",
      "execution_count": null,
      "metadata": {
        "id": "UJuOd-q0IuYW"
      },
      "outputs": [],
      "source": [
        "def is_leap(year):\n",
        "    if(year%4==0 and year%100!=0) or  (year%400==0):\n",
        "        return True\n",
        "    else:\n",
        "        return False\n",
        "\n",
        "year = int(input())\n",
        "print(is_leap(year))"
      ]
    },
    {
      "cell_type": "code",
      "execution_count": null,
      "metadata": {
        "id": "cT6JC0OAQE0I"
      },
      "outputs": [],
      "source": [
        "from itertools import permutations\n",
        "inp, length = input().split()\n",
        "length = int(length)\n",
        "perms = permutations(sorted(inp), length)\n",
        "for i in perms:\n",
        "    print(\"\".join(i))"
      ]
    },
    {
      "cell_type": "code",
      "execution_count": null,
      "metadata": {
        "id": "zHKwbtrcTsaE"
      },
      "outputs": [],
      "source": [
        "from itertools import combinations\n",
        "\n",
        "\n",
        "inp, length = input().split()\n",
        "length = int(length)\n",
        "\n",
        "\n",
        "inp = ''.join(sorted(inp))\n",
        "\n",
        "\n",
        "for r in range(1, length + 1):\n",
        "    for combo in combinations(inp, r):\n",
        "        print(''.join(combo))"
      ]
    }
  ],
  "metadata": {
    "colab": {
      "provenance": []
    },
    "kernelspec": {
      "display_name": "Python 3",
      "name": "python3"
    },
    "language_info": {
      "name": "python"
    }
  },
  "nbformat": 4,
  "nbformat_minor": 0
}
